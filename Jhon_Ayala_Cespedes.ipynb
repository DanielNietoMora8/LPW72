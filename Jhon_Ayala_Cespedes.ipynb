{
  "nbformat": 4,
  "nbformat_minor": 0,
  "metadata": {
    "colab": {
      "provenance": []
    },
    "kernelspec": {
      "name": "python3",
      "display_name": "Python 3"
    },
    "language_info": {
      "name": "python"
    }
  },
  "cells": [
    {
      "cell_type": "markdown",
      "source": [
        "Punto 1."
      ],
      "metadata": {
        "id": "2JU-35tf0ufC"
      }
    },
    {
      "cell_type": "code",
      "execution_count": 62,
      "metadata": {
        "id": "7xdhPJqFjDBZ"
      },
      "outputs": [],
      "source": [
        "import numpy as np\n",
        "\n",
        "class matriz:\n",
        "  def __init__(self, msize:tuple, tipo:str, num:int):\n",
        "    self._msize = msize\n",
        "    self._tipo = tipo\n",
        "    self._num = num\n",
        "    self._matriz = []\n",
        "  \n",
        "  def crearMatriz(self):\n",
        "    if self._tipo == \"zeros\":\n",
        "      self._matriz = np.zeros(self._msize)\n",
        "    elif self._tipo == \"ones\":\n",
        "      self._matriz = np.ones(self._msize)\n",
        "    elif self._tipo == \"random\":\n",
        "      self._matriz = np.array(np.random.randint(20, 40, self._msize))\n",
        "    print(self._matriz)\n",
        "  \n",
        "  #def multiplica(self):"
      ]
    },
    {
      "cell_type": "code",
      "source": [
        "tamano = (3,5); tipo = \"random\"\n",
        "m = matriz(tamano, tipo, 3)\n",
        "m.crearMatriz()"
      ],
      "metadata": {
        "colab": {
          "base_uri": "https://localhost:8080/"
        },
        "id": "oyQ55PlV9w0a",
        "outputId": "e551a004-effa-4cb9-f1be-df80a660c75d"
      },
      "execution_count": 64,
      "outputs": [
        {
          "output_type": "stream",
          "name": "stdout",
          "text": [
            "[[36 20 25 32 20]\n",
            " [24 20 36 39 31]\n",
            " [39 35 25 21 37]]\n"
          ]
        }
      ]
    },
    {
      "cell_type": "code",
      "source": [
        "tamano = (3, 3)\n",
        "tipo = \"ones\"\n",
        "\n",
        "def mat(tam, tip):\n",
        "  print(tam)\n",
        "  print(tip)\n",
        "\n",
        "mat(tamano, tipo)\n",
        "type(tamano)\n",
        "type(tipo)"
      ],
      "metadata": {
        "colab": {
          "base_uri": "https://localhost:8080/"
        },
        "id": "d1Bd1gS55Uah",
        "outputId": "1bb48bf6-5165-4e9c-ed28-66a6e056cadd"
      },
      "execution_count": 13,
      "outputs": [
        {
          "output_type": "stream",
          "name": "stdout",
          "text": [
            "(3, 3)\n",
            "ones\n"
          ]
        },
        {
          "output_type": "execute_result",
          "data": {
            "text/plain": [
              "str"
            ]
          },
          "metadata": {},
          "execution_count": 13
        }
      ]
    },
    {
      "cell_type": "markdown",
      "source": [
        "Punto 2. "
      ],
      "metadata": {
        "id": "ZS7bVNmU0o_n"
      }
    },
    {
      "cell_type": "code",
      "source": [
        "class indentificacion:\n",
        "  def __init__(self, nombre, edad):\n",
        "    self.__nombre = nombre\n",
        "    self.__edad = edad\n",
        "  \n",
        "  def sayHi(self):\n",
        "    print(f\"¡Hola, soy {self.__nombre} y tengo {self.__edad} años!\")\n",
        "  \n",
        "johnny = indentificacion(\"Johnny Bravo\", 39)\n",
        "johnny.sayHi()"
      ],
      "metadata": {
        "colab": {
          "base_uri": "https://localhost:8080/"
        },
        "id": "C0nttoW90sNX",
        "outputId": "e1a32c2e-adfc-494c-abc7-e866cd4bb9af"
      },
      "execution_count": 54,
      "outputs": [
        {
          "output_type": "stream",
          "name": "stdout",
          "text": [
            "¡Hola, soy Johnny Bravo y tengo 39 años!\n"
          ]
        }
      ]
    }
  ]
}