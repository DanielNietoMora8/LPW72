{
  "nbformat": 4,
  "nbformat_minor": 0,
  "metadata": {
    "colab": {
      "provenance": []
    },
    "kernelspec": {
      "name": "python3",
      "display_name": "Python 3"
    },
    "language_info": {
      "name": "python"
    }
  },
  "cells": [
    {
      "cell_type": "markdown",
      "source": [
        "PRIMER PUNTO"
      ],
      "metadata": {
        "id": "_rs5grHSzVCd"
      }
    },
    {
      "cell_type": "code",
      "source": [
        "import numpy as py\n",
        "import matplotlib.pyplot as plt\n",
        "import pandas as pd\n",
        "import random\n",
        "\n",
        "class atri3:\n",
        "  def __init__(self,tama,selec:int,cant:int):\n",
        "    self.tama = tama\n",
        "    self.selec = selec\n",
        "    self.cant = cant\n",
        "    tama = (\"2X2\",\"3x3\")\n",
        "    selec = random.choice([0,1,random]) ## 0 para zeros, 1 para ones, 2 para aleatorio\n",
        "    if (self.tama == \"2x2\") and (self.selec == 0):\n",
        "      if self.cant == 1:\n",
        "        print(\"Su matriz es: \")\n",
        "        self.mtz1 = py.zeros((2,2))\n",
        "        print(self.mtz1)\n",
        "      else:\n",
        "        for i in range(self.cant):\n",
        "          print(\"Su matriz es: \")\n",
        "          self.mtz1 = py.zeros((2,2))\n",
        "          print(self.mtz1)\n",
        "    elif (self.tama == \"2x2\") and (self.selec == 1):\n",
        "      if self.cant == 1:\n",
        "        print(\"Su matriz es: \")\n",
        "        self.mtz1 = py.ones((2,2))\n",
        "        print(self.mtz1)\n",
        "      else:\n",
        "        for i in range(self.cant):\n",
        "          print(\"Su matriz es: \")\n",
        "          self.mtz1 = py.ones((2,2))\n",
        "          print(self.mtz1)\n",
        "    elif (self.tama == \"2x2\") and (self.selec == 2):\n",
        "      if self.cant == 1:\n",
        "        print(\"Su matriz es: \")\n",
        "        self.mtz1 = py.random.uniform(20.0,40.0,size=(2,2))\n",
        "        np.set_printoptions(precision=2)\n",
        "        print(self.mtz1)\n",
        "      else:\n",
        "        for i in range(self.cant):\n",
        "          print(\"Su matriz es: \")\n",
        "          self.mtz1 = py.random.uniform(20.0,40.0,size=(2,2))\n",
        "          np.set_printoptions(precision=2)\n",
        "          print(self.mtz1)\n",
        "    elif (self.tama == \"3x3\") and (self.selec == 0):\n",
        "      if self.cant == 1:\n",
        "        print(\"Su matriz es: \")\n",
        "        self.mtz1 = py.zeros((3,3))\n",
        "        print(self.mtz1)\n",
        "      else:\n",
        "        for i in range(self.cant):\n",
        "          print(\"Su matriz es: \")\n",
        "          self.mtz1 = py.zeros((3,3))\n",
        "          print(self.mtz1)\n",
        "    elif (self.tama == \"3x3\") and (self.selec == 1):\n",
        "      if self.cant == 1:\n",
        "        print(\"Su matriz es: \")\n",
        "        self.mtz1 = py.ones((3,3))\n",
        "        print(self.mtz1)\n",
        "      else:\n",
        "        for i in range(self.cant):\n",
        "          print(\"Su matriz es: \")\n",
        "          self.mtz1 = py.ones((3,3))\n",
        "          print(self.mtz1)\n",
        "    elif (self.tama == \"3x3\") and (self.selec == 2):\n",
        "      if self.cant == 1:\n",
        "        print(\"Su matriz es: \")\n",
        "        self.mtz1 = py.random.uniform(20.0,40.0,size=(3,3))\n",
        "        np.set_printoptions(precision=2)\n",
        "        print(self.mtz1)\n",
        "      else:\n",
        "        for i in range(self.cant):\n",
        "          print(\"Su matriz es: \")\n",
        "          self.mtz1 = py.random.uniform(20.0,40.0,size=(3,3))\n",
        "          np.set_printoptions(precision=2)\n",
        "          print(self.mtz1)\n",
        "    else:\n",
        "      print(\"ERROR\")\n",
        "\n",
        "\n",
        "  def multi(self):\n",
        "    self.result = py.matmul(self.mtz1,self.mtz1)\n",
        "    print(\"La multiplicacion matricial de la matriz es: \")\n",
        "    return self.result\n",
        "\n",
        "f = atri3(\"3x3\",1,1)\n",
        "f.multi()"
      ],
      "metadata": {
        "id": "0KnRA3-2zW61"
      },
      "execution_count": null,
      "outputs": []
    },
    {
      "cell_type": "markdown",
      "source": [
        "SEGUNDO PUNTO"
      ],
      "metadata": {
        "id": "ZX_sPcGAzXOS"
      }
    },
    {
      "cell_type": "code",
      "source": [
        "import numpy as py\n",
        "import matplotlib.pyplot as plt\n",
        "import pandas as pd\n",
        "import random\n",
        "\n",
        "class iden:\n",
        "  def __init__(self,name:str,edad:int):\n",
        "    self.__name = name\n",
        "    self.__edad = edad\n",
        "  \n",
        "  def saludo(self):\n",
        "    print(f\"Hola, soy {self.__name} y tengo {self.__edad} años\")\n",
        "    \n",
        "f = iden(\"Faber\",24)\n",
        "f.saludo()"
      ],
      "metadata": {
        "colab": {
          "base_uri": "https://localhost:8080/"
        },
        "id": "1lq9lch5zZy6",
        "outputId": "328a4d2c-e6e7-4678-ae04-5b5eb9d4da77"
      },
      "execution_count": 25,
      "outputs": [
        {
          "output_type": "stream",
          "name": "stdout",
          "text": [
            "Hola, soy Faber y tengo 24 años\n"
          ]
        }
      ]
    }
  ]
}