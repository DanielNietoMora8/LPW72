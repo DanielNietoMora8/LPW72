{
  "nbformat": 4,
  "nbformat_minor": 0,
  "metadata": {
    "colab": {
      "provenance": []
    },
    "kernelspec": {
      "name": "python3",
      "display_name": "Python 3"
    },
    "language_info": {
      "name": "python"
    }
  },
  "cells": [
    {
      "cell_type": "code",
      "execution_count": 89,
      "metadata": {
        "id": "n49Pn4fAz08d"
      },
      "outputs": [],
      "source": [
        "import numpy as np\n",
        "import matplotlib.pyplot as plt\n",
        "\n",
        "class Generador:\n",
        "    def __init__(self, tamaño, tipo, cantidad):\n",
        "        self.tamaño = tamaño\n",
        "        self.tipo = tipo\n",
        "        self.cantidad = cantidad\n",
        "        self.matrices = []\n",
        "\n",
        "    def generar_matrices(self):\n",
        "        for _ in range(self.cantidad):\n",
        "            if self.tipo == \"zeros\":\n",
        "                matris = np.zeros(self.tamaño)\n",
        "            elif self.tipo == \"ones\":\n",
        "                matris = np.ones(self.tamaño)\n",
        "            elif self.tipo == \"random\":\n",
        "                matris = np.random.uniform(20, 40, self.tamaño)\n",
        "            else:\n",
        "                raise ValueError(\"invalido, ingrese 'zeros', 'ones', o 'random'.\")\n",
        "            self.matrices.append(matris)\n",
        "            return matris\n",
        "\n",
        "    def multiplicar(self):\n",
        "        for _ in range(2, len(self.cantidad)):\n",
        "            result = np.matmul(result, self.matrices[i])\n",
        "        return result\n",
        "\n",
        "        if (self.cantidad) < 2:\n",
        "            print(\"se requieren dos matrices para realizar la multiplicacion\")\n",
        "            result = np.matmul(self.matrices[0], self.matrices[1])\n",
        "            return result\n",
        "\n",
        "        \n",
        "\n",
        "    def imagen(self):\n",
        "        for matris in self.matrices:\n",
        "            plt.imshow(matris)\n",
        "            plt.show()\n",
        "\n",
        "    def suma(self):\n",
        "        return [np.sum(matris) for matris in self.matrices]\n",
        "\n",
        "\n",
        "ejemplo1 = Generador((3,3),\"random\",3)"
      ]
    },
    {
      "cell_type": "code",
      "source": [
        "class Identificacion:\n",
        "    def __init__(self, nombre, edad):\n",
        "        self._nombre = nombre\n",
        "        self._edad = edad\n",
        "\n",
        "    def saludar(self):\n",
        "        print(f\"Hola, soy {self._nombre} y tengo {self._edad} años.\")\n",
        "\n",
        "pedro = Identificacion(\"pedro\",28)\n",
        "pedro.saludar()\n"
      ],
      "metadata": {
        "colab": {
          "base_uri": "https://localhost:8080/"
        },
        "id": "_Ez5b2PL5XnG",
        "outputId": "8377148f-b16a-410d-d2ee-f802d519ad9e"
      },
      "execution_count": 90,
      "outputs": [
        {
          "output_type": "stream",
          "name": "stdout",
          "text": [
            "Hola, soy pedro y tengo 28 años.\n"
          ]
        }
      ]
    }
  ]
}