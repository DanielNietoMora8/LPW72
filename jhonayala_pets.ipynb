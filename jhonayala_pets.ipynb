{
  "nbformat": 4,
  "nbformat_minor": 0,
  "metadata": {
    "colab": {
      "provenance": []
    },
    "kernelspec": {
      "name": "python3",
      "display_name": "Python 3"
    },
    "language_info": {
      "name": "python"
    }
  },
  "cells": [
    {
      "cell_type": "code",
      "execution_count": null,
      "metadata": {
        "id": "Sfg8tH3y-YKj"
      },
      "outputs": [],
      "source": []
    },
    {
      "cell_type": "markdown",
      "source": [
        "metodo 1: alimentar\n",
        "\n",
        "metodo 2: dormir"
      ],
      "metadata": {
        "id": "hMSBvnIN-nsN"
      }
    },
    {
      "cell_type": "code",
      "source": [
        "class pet:\n",
        "  def __init__(self, raza:str, name:str):\n",
        "    self._raza = raza\n",
        "    self._name = name\n",
        "    self._hungry = False\n",
        "    self._eat = False\n",
        "    self._sleep = False\n",
        "\n",
        "  def do_feed(self, hungry:bool):\n",
        "    self._hungry = hungry\n",
        "    if self._hungry == True:\n",
        "      print(\"La mascota tiene hambre, se esta alimentando\")\n",
        "    else:\n",
        "      print(\"La mascota NO tiene hambre\")"
      ],
      "metadata": {
        "id": "L75DTClw-ydk"
      },
      "execution_count": null,
      "outputs": []
    },
    {
      "cell_type": "code",
      "source": [
        "perro = pet(\"Labrador\", \"Bob\")\n",
        "gato = pet(\"Criollo\", \"Milo\")\n",
        "print(\"Tiene hambre? \"); pregunta = int(input())\n",
        "#pregunta\n",
        "perro.do_feed(pregunta)"
      ],
      "metadata": {
        "colab": {
          "base_uri": "https://localhost:8080/"
        },
        "id": "nHI-PuqzAcLe",
        "outputId": "fdf41249-83e0-45aa-d67f-dc676aece1bf"
      },
      "execution_count": null,
      "outputs": [
        {
          "output_type": "stream",
          "name": "stdout",
          "text": [
            "Tiene hambre? \n",
            "0\n",
            "La mascota NO tiene hambre\n"
          ]
        }
      ]
    }
  ]
}