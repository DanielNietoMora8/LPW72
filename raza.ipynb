{
  "nbformat": 4,
  "nbformat_minor": 0,
  "metadata": {
    "colab": {
      "provenance": []
    },
    "kernelspec": {
      "name": "python3",
      "display_name": "Python 3"
    },
    "language_info": {
      "name": "python"
    }
  },
  "cells": [
    {
      "cell_type": "code",
      "execution_count": null,
      "metadata": {
        "id": "K1p2tyZpGHB3"
      },
      "outputs": [],
      "source": [
        "\n",
        "class mascota:\n",
        "\n",
        "  def __init__(self,raza:str,nombre:str):\n",
        "    self._raza=raza\n",
        "    self._nombre=nombre\n",
        "    self._hambre=True\n",
        "\n",
        "  def set_hora(self):\n",
        "    self.hora = np.random.randint(0,24,1)\n",
        "    self.set_hambre=True\n",
        "\n",
        "    if(self.hora>11 and self.hora>14)and(self._hambre):\n",
        "          print(f\"hora de almuerzo\")\n",
        "    else:\n",
        "    \n",
        "        print(\"no es hora de almuerzo\")\n",
        "\n"
      ]
    }
  ]
}