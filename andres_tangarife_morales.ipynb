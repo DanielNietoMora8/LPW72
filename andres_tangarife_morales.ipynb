{
  "nbformat": 4,
  "nbformat_minor": 0,
  "metadata": {
    "colab": {
      "provenance": []
    },
    "kernelspec": {
      "name": "python3",
      "display_name": "Python 3"
    },
    "language_info": {
      "name": "python"
    }
  },
  "cells": [
    {
      "cell_type": "code",
      "execution_count": 6,
      "metadata": {
        "id": "Aq_Pe5cv0e9e"
      },
      "outputs": [],
      "source": [
        "import numpy as np\n",
        "import matplotlib.pyplot as plt\n",
        "\n",
        "class MatrizGenerator:\n",
        "    def __init__(self, TamMatriz, TipoRelleno, NumMatrices):\n",
        "        self.TamMatriz = TamMatriz\n",
        "        self.TipoRelleno = TipoRelleno\n",
        "        self.NumMatrices = NumMatrices\n",
        "        self.matrices = []\n",
        "\n",
        "    def GeneradorMatrices(self):\n",
        "        for _ in range(self.NumMatrices):\n",
        "            if self.TipoRelleno == \"zeros\":\n",
        "                Matriz = np.zeros(self.TamMatriz)\n",
        "            elif self.TipoRelleno == \"ones\":\n",
        "                Matriz = np.ones(self.TamMatriz)\n",
        "            elif self.TipoRelleno == \"random\":\n",
        "                Matriz = np.random.uniform(20, 40, self.TamMatriz)\n",
        "            else:\n",
        "                raise ValueError(\"Tipo de relleno invalido. escoge: 'zeros', 'ones', or 'random'.\")\n",
        "\n",
        "            self.matrices.append(Matriz)\n",
        "\n",
        "    def MultiplicacionMatrices(self):\n",
        "        if len(self.matrices) < 2:\n",
        "            raise ValueError(\"Se requieren al menos 2 matrices para la multiplicacion.\")\n",
        "\n",
        "        result = np.matmul(self.matrices[0], self.matrices[1])\n",
        "        return result\n",
        "\n",
        "    def VerMatrices(self):\n",
        "        if not self.matrices:\n",
        "            raise ValueError(\"No se han generado matrices.\")\n",
        "\n",
        "        for Matriz in self.matrices:\n",
        "            plt.imshow(Matriz, cmap=\"gray\")\n",
        "            plt.show()\n",
        "\n",
        "    def SumDeElementos(self):\n",
        "        if not self.matrices:\n",
        "            raise ValueError(\"No se ha generado ninguna matriz.\")\n",
        "\n",
        "        sums = []\n",
        "        for Matriz in self.matrices:\n",
        "            total_sum = np.sum(Matriz)\n",
        "            sums.append(total_sum)\n",
        "\n",
        "        return sums\n"
      ]
    },
    {
      "cell_type": "code",
      "source": [
        "class Identificacion:\n",
        "    def __init__(self, nombre, edad):\n",
        "        self._nombre = nombre\n",
        "        self._edad = edad\n",
        "\n",
        "    def saludar(self):\n",
        "        print(f\"Hola, soy {self._nombre} y tengo {self._edad} años.\")\n",
        "\n",
        "    def get_nombre(self):\n",
        "        return self._nombre\n",
        "\n",
        "    def get_edad(self):\n",
        "        return self._edad\n",
        "\n",
        "    def set_nombre(self, nuevo_nombre):\n",
        "        self._nombre = nuevo_nombre\n",
        "\n",
        "    def set_edad(self, nueva_edad):\n",
        "        self._edad = nueva_edad\n"
      ],
      "metadata": {
        "id": "y83bXwmp7JU1"
      },
      "execution_count": 2,
      "outputs": []
    }
  ]
}