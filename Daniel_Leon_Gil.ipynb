{
  "nbformat":4,
  "nbformat_minor":  0,
  "metadata": {
    "colab": {
      "provenance": []
    },
    "kernelspec": {
      "name": "python3",
      "display_name": "Python 3"
    },
    "language_info": {
      "name": "python"
    }
  },
  "cells": [
    {
      "cell_type": "markdown",
      "source": [
        "## Punto numero 1"
      ],
      "metadata": {
        "id": "9mozWUik3q_I"
      }
    },
    {
      "cell_type": "code",
      "source": [
        "import numpy as np\n",
        "import matplotlib.pyplot as plt\n",
        "\n",
        "class Matrices:\n",
        "  def __init__(self, tupla, string, n):\n",
        "      self._tupla = tupla\n",
        "      self._string = string\n",
        "      self._numero = n\n",
        "  \n",
        "  def matriz(self):\n",
        "      if self._string == \"zeros\":\n",
        "        self._m1 = np.zeros([self._tupla, self._tupla])\n",
        "      elif self._string == \"ones\":\n",
        "        self._m1 = np.ones([self._tupla, self._tupla])\n",
        "      else:\n",
        "        self._m1 = np.random.randint(20,40, size=[self._tupla, self._tupla])\n",
        "\n",
        "  def mult(self):\n",
        "\n",
        "      for fila in range (len(lista_3)):\n",
        "        new_fila = []\n",
        "        new_fila2 = []\n",
        "        new_fila3 = []\n",
        "        for columna in range (len(lista_3[0])):\n",
        "          new_fila3.append(lista_3[fila][columna] * lista_4[fila][columna])\n",
        "        lista_8.append(new_fila3)\n",
        "      #print(\"\\n\") \n",
        "      for fila in range (len(lista_3)):\n",
        "        print(f\"{lista_3[fila]} * {lista_4[fila]} = {lista_8[fila]}\")\n",
        "\n",
        "  \n",
        "\n",
        "\n"
      ],
      "metadata": {
        "id": "mIDCWosm3wky"
      },
      "execution_count": 12,
      "outputs": []
    },
    {
      "cell_type": "code",
      "source": [],
      "metadata": {
        "id": "n2dKLHguJZmJ"
      },
      "execution_count": null,
      "outputs": []
    },
    {
      "cell_type": "markdown",
      "source": [
        "## Punto numero 2"
      ],
      "metadata": {
        "id": "g3RSgt-R3f8t"
      }
    },
    {
      "cell_type": "code",
      "source": [
        "import numpy as np\n",
        "import matplotlib.pyplot as plt\n",
        "\n",
        "class Identificacion:\n",
        "  def __init__(self,nombre,edad):\n",
        "      self.__nombre = nombre\n",
        "      self.__edad = edad\n",
        "  \n",
        "  def saludo(self):\n",
        "      print(f\"Hola soy {self.__nombre} y tengo {self.__edad} años\")\n",
        "\n",
        "persona = Identificacion(\"Daniel León\", 34)\n",
        "persona.saludo()\n",
        "    "
      ],
      "metadata": {
        "colab": {
          "base_uri": "https://localhost:8080/"
        },
        "id": "SXShFlBL1GaV",
        "outputId": "8ca2a4d4-5036-4b47-a8d2-a826c32509c5"
      },
      "execution_count": 13,
      "outputs": [
        {
          "output_type": "stream",
          "name": "stdout",
          "text": [
            "Hola soy Daniel León y tengo 34 años\n"
          ]
        }
      ]
    }
  ]
}