{
 "cells": [
  {
   "cell_type": "code",
   "execution_count": 92,
   "metadata": {},
   "outputs": [],
   "source": [
    "import numpy as np\n",
    "import matplotlib.pyplot as plt"
   ]
  },
  {
   "cell_type": "code",
   "execution_count": 93,
   "metadata": {},
   "outputs": [],
   "source": [
    "\n",
    "class GeneradorMatrices:\n",
    "    def __init__(self, tamano_matriz, tipo_llenado, num_matrices):\n",
    "        self.tamano_matriz = tamano_matriz\n",
    "        self.tipo_llenado = tipo_llenado\n",
    "        self.num_matrices = num_matrices\n",
    "        self.matrices = []\n",
    "\n",
    "    def multiplicacion(self):\n",
    "        resultado = self.matrices[0]\n",
    "        for matriz in self.matrices[1:]:\n",
    "            if matriz.shape[0] != resultado.shape[1]:\n",
    "                return None \n",
    "            resultado = np.dot(resultado, matriz)\n",
    "        return resultado\n",
    "\n",
    "    def generar_matrices(self):\n",
    "        if self.tipo_llenado == \"zeros\":\n",
    "            funcion_llenado = np.zeros\n",
    "        elif self.tipo_llenado == \"ones\":\n",
    "            funcion_llenado = np.ones\n",
    "        elif self.tipo_llenado == \"random\":\n",
    "            funcion_llenado = lambda shape: np.random.randint(20, 41, shape)\n",
    "        else:\n",
    "            funcion_llenado = np.zeros  \n",
    "        \n",
    "        for _ in range(self.num_matrices):\n",
    "            matriz = funcion_llenado(self.tamano_matriz)\n",
    "            self.matrices.append(matriz)\n",
    "\n",
    "    \n",
    "\n",
    "    def imagenes(self):\n",
    "        if not self.matrices:\n",
    "            return  \n",
    "        \n",
    "        num_matrices = len(self.matrices)\n",
    "        figura, ejes = plt.subplots(1, num_matrices)\n",
    "        for i, ax in enumerate(ejes):\n",
    "            ax.imshow(self.matrices[i])\n",
    "            \n",
    "        \n",
    "        plt.show()\n",
    "\n",
    "    def calcular_suma_total(self):\n",
    "        sumas = [np.sum(matriz) for matriz in self.matrices]\n",
    "        return sumas\n"
   ]
  },
  {
   "cell_type": "code",
   "execution_count": 94,
   "metadata": {},
   "outputs": [
    {
     "name": "stdout",
     "output_type": "stream",
     "text": [
      "la suma da:\n",
      "[0.0, 0.0, 0.0]\n",
      "la multiplicacion da:\n",
      "[[0. 0.]\n",
      " [0. 0.]]\n"
     ]
    },
    {
     "data": {
      "image/png": "[encoded data removed]",
      "text/plain": [
       "<Figure size 640x480 with 3 Axes>"
      ]
     },
     "metadata": {},
     "output_type": "display_data"
    },
    {
     "name": "stdout",
     "output_type": "stream",
     "text": [
      "la suma da:\n",
      "[0.0, 0.0, 0.0]\n"
     ]
    }
   ],
   "source": [
    "ejemplo = GeneradorMatrices((2, 2), \"zeros\", 3)\n",
    "\n",
    "\n",
    "ejemplo.generar_matrices()\n",
    "\n",
    "sumas = ejemplo.calcular_suma_total()\n",
    "print(\"la suma da:\")\n",
    "print(sumas)\n",
    "\n",
    "\n",
    "multiplicada = ejemplo.multiplicacion()\n",
    "print(\"la multiplicacion da:\")\n",
    "print(multiplicada)\n",
    "\n",
    "\n",
    "ejemplo.imagenes()\n",
    "\n",
    "\n",
    "sumas = ejemplo.calcular_suma_total()\n",
    "print(\"la suma da:\")\n",
    "print(sumas)\n",
    "\n",
    "\n"
   ]
  }
 ],
 "metadata": {
  "kernelspec": {
   "display_name": "Python 3",
   "language": "python",
   "name": "python3"
  },
  "language_info": {
   "codemirror_mode": {
    "name": "ipython",
    "version": 3
   },
   "file_extension": ".py",
   "mimetype": "text/x-python",
   "name": "python",
   "nbconvert_exporter": "python",
   "pygments_lexer": "ipython3",
   "version": "3.11.3"
  },
  "orig_nbformat": 4
 },
 "nbformat": 4,
 "nbformat_minor": 2
}
