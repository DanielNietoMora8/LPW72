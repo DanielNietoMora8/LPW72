{
  "nbformat": 4,
  "nbformat_minor": 0,
  "metadata": {
    "colab": {
      "provenance": []
    },
    "kernelspec": {
      "name": "python3",
      "display_name": "Python 3"
    },
    "language_info": {
      "name": "python"
    }
  },
  "cells": [
    {
      "cell_type": "markdown",
      "source": [
        "SEGUNDO PUNTO DEL EXAMEN."
      ],
      "metadata": {
        "id": "FGYLBmazEN_l"
      }
    },
    {
      "cell_type": "code",
      "execution_count": 48,
      "metadata": {
        "id": "XpeNTTKs_jlc"
      },
      "outputs": [],
      "source": [
        "import numpy as np\n",
        "import matplotlib.pyplot as plt\n",
        "import pandas as pd"
      ]
    },
    {
      "cell_type": "code",
      "source": [
        "\n",
        "class  identificacion:\n",
        "  def __init__(self, nombre:str, edad:int):\n",
        "    self._nombre = nombre\n",
        "    self._edad = edad\n",
        "\n",
        "  def mensaje(self):\n",
        "    print(f\" Hola soy {self._nombre} y tengo {self._edad} años\")\n"
      ],
      "metadata": {
        "id": "wc_hMKiM_s-o"
      },
      "execution_count": 56,
      "outputs": []
    },
    {
      "cell_type": "code",
      "source": [
        "saludo = identificacion(\"sebastian\", 33)\n",
        "saludo.mensaje()"
      ],
      "metadata": {
        "colab": {
          "base_uri": "https://localhost:8080/"
        },
        "id": "sXdLDZAk7FJv",
        "outputId": "0e7891a4-c455-4db6-ef22-9ed5cbdc7efc"
      },
      "execution_count": 57,
      "outputs": [
        {
          "output_type": "stream",
          "name": "stdout",
          "text": [
            " Hola soy sebastian y tengo 33 años\n"
          ]
        }
      ]
    },
    {
      "cell_type": "markdown",
      "source": [
        "PRIMER PUNTO DEL EXAMEN"
      ],
      "metadata": {
        "id": "k0DiE-7xEnEI"
      }
    },
    {
      "cell_type": "code",
      "source": [
        "class  matriz:\n",
        "  def __init__(self, tamano:tuple, como_llenar:str, numeros_matriz:int):\n",
        "    self._tamano = tamano\n",
        "    self._como_llenar = como_llenar\n",
        "    self._numeros_matriz = numeros_matriz\n",
        "\n",
        "  def set_tupla(self):\n",
        "    tamano = np.array([2],[2])\n",
        "\n",
        "  def set_como_llenar(self):\n",
        "    if (como_llenar == \"zeros\", \"ones\", \"random\")\n",
        "\n",
        "  def set_numeros_matriz(self):\n",
        "    tamano = np.array([2],[2])\n",
        "    \n",
        "    \n",
        "\n"
      ],
      "metadata": {
        "id": "_yQM892SErvu"
      },
      "execution_count": null,
      "outputs": []
    }
  ]
}