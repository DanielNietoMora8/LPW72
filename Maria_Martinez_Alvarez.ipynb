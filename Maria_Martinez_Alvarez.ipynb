{
  "cells": [
    {
      "cell_type": "code",
      "execution_count": 45,
      "metadata": {
        "id": "MglVkXqOHa1a"
      },
      "outputs": [],
      "source": [
        "# PUNTO1\n",
        "import random\n",
        "import numpy as np\n",
        "import matplotlib.pyplot as plt\n",
        "\n",
        "class Matrices:\n",
        "    def __init__(self, tamaño, llenado, num_matri):\n",
        "        self.tamaño = tamaño\n",
        "        self.tipo_llenado = llenado\n",
        "        self.num_matrices = num_matri\n",
        "        self.matrices = []\n",
        "\n",
        "    def generar_matrices(self):\n",
        "        for _ in range(self.num_matrices):\n",
        "            if self.tipo_llenado == \"zeros\":\n",
        "                matriz = np.zeros(self.tamaño)\n",
        "            elif self.tipo_llenado == \"ones\":\n",
        "                matriz = np.ones(self.tamaño)\n",
        "            elif self.tipo_llenado == \"randoms\":\n",
        "                matriz = np.random.uniform(20, 40, self.tamaño)\n",
        "            self.matrices.append(matriz)\n",
        "\n",
        "    def multiplicar_matrices(self):\n",
        "        if len(self.matrices) < 2:\n",
        "            print(\"Se necesitan mínimo 2 matrices para hacer la multiplicación.\")\n",
        "            return None\n",
        "\n",
        "        resultado = self.matrices[0]\n",
        "        for i in range(1, len(self.matrices)):\n",
        "            if resultado.shape[1] != self.matrices[i].shape[0]:\n",
        "                print(\"Las matrices no se pueden multiplicar.\")\n",
        "                return None\n",
        "            resultado = np.matmul(resultado, self.matrices[i])\n",
        "        return resultado\n",
        "\n",
        "    def mostrar_matrices(self):\n",
        "        if len(self.matrices) == 0:\n",
        "            print(\"No hay matrices para mostrar.\")\n",
        "            return\n",
        "\n",
        "        for i, matriz in enumerate(self.matrices):\n",
        "            plt.subplot(1, len(self.matrices), i+1)\n",
        "            plt.imshow(matriz)\n",
        "            plt.axis('off')\n",
        "        plt.show()\n",
        "\n",
        "    def obtener_suma_total(self):\n",
        "        if len(self.matrices) == 0:\n",
        "            print(\"No hay matrices.\")\n",
        "            return []\n",
        "\n",
        "        sumas = []\n",
        "        for matriz in self.matrices:\n",
        "            suma_total = np.sum(matriz)\n",
        "            sumas.append(suma_total)\n",
        "        return sumas\n",
        "\n",
        "# PREBA\n",
        "        tamaño = (3, 3)\n",
        "        llenado = \"ones\"\n",
        "        num_matri = 4\n",
        "\n",
        "        mis_matrices = Matrices(tamaño, llenado, num_matri)\n",
        "\n",
        "        mis_matrices.generar_matrices()\n",
        "\n",
        "        print(\"Matrices generadas:\")\n",
        "        mis_matrices.mostrar_matrices()\n",
        "\n",
        "        resultado = mis_matrices.multiplicar_matrices()\n",
        "        if resultado is not None:\n",
        "            print(\"La multiplicación de matrices es:\")\n",
        "            print(resultado)\n",
        "\n",
        "        sumas = mis_matrices.obtener_suma_total()\n",
        "        if sumas:\n",
        "            print(\"La suma total de los elementos de cada matriz es:\")\n",
        "            for i, suma in enumerate(sumas):\n",
        "                print(f\"Matriz {i+1}: {suma}\")"
      ]
    },
    {
      "cell_type": "code",
      "source": [
        "#Punto2\n",
        "class hola:\n",
        "    def __init__(self, nom, edad):\n",
        "        self.nombre = nom\n",
        "        self.edad = edad\n",
        "\n",
        "    def saludar(self):\n",
        "        print(\"Hola, soy \" + self.nombre + \" y tengo \" + str(self.edad) + \" años.\")\n",
        "\n",
        "nom = input(\"Ingrese su nombre: \")\n",
        "edad = int(input(\"Ingrese su edad: \"))\n",
        "\n",
        "saludo= hola(nom, edad)\n",
        "\n",
        "saludo.saludar()\n"
      ],
      "metadata": {
        "colab": {
          "base_uri": "https://localhost:8080/"
        },
        "id": "QIXPcqAMON5B",
        "outputId": "7e5011f1-9aae-494d-815f-19a86e8a3afb"
      },
      "execution_count": 46,
      "outputs": [
        {
          "output_type": "stream",
          "name": "stdout",
          "text": [
            "Ingrese su nombre: hola\n",
            "Ingrese su edad: 77\n",
            "Hola, soy hola y tengo 77 años.\n"
          ]
        }
      ]
    }
  ],
  "metadata": {
    "colab": {
      "provenance": []
    },
    "kernelspec": {
      "display_name": "Python 3",
      "name": "python3"
    },
    "language_info": {
      "name": "python"
    }
  },
  "nbformat": 4,
  "nbformat_minor": 0
}