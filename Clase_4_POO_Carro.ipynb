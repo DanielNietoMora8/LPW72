{
  "nbformat": 4,
  "nbformat_minor": 0,
  "metadata": {
    "colab": {
      "provenance": []
    },
    "kernelspec": {
      "name": "python3",
      "display_name": "Python 3"
    },
    "language_info": {
      "name": "python"
    }
  },
  "cells": [
    {
      "cell_type": "code",
      "execution_count": 2,
      "metadata": {
        "id": "zHuGoPz_zsGb"
      },
      "outputs": [],
      "source": []
    },
    {
      "cell_type": "code",
      "source": [
        "import numpy as np\n",
        "import matplotlib.pyplot as plt\n",
        "import pandas as pd\n",
        "\n",
        "class carro:\n",
        "    def __init__(self, marca:str, color:str, modelo:int, cilindraje:float, precio:float):\n",
        "      self._marca = marca\n",
        "      self._color = color\n",
        "      self._modelo = modelo\n",
        "      self._cilindraje = cilindraje\n",
        "      self._precio = precio\n",
        "      self._engine_ok = False\n",
        "      self._temperatura = 23\n",
        "      self._presion_neum = 32\n",
        "      self._sensor_puertas = False\n",
        "\n",
        "    def set_temperatura(self):\n",
        "      self._temperatura = np.random.randint(-10,130,1)\n",
        "  \n",
        "    def set_presion(self):\n",
        "      self._presion_neum = np.random.randint(20,40,1)\n",
        "  \n",
        "    def set_puertas(self,booleano:bool):\n",
        "      if booleano == 0:\n",
        "        self._sensor_puertas = False\n",
        "      elif booleano == 1:\n",
        "        self._sensor_puertas = True\n",
        "      else:\n",
        "        print(\"Error\")\n",
        "  \n",
        "    def check_engine(self):\n",
        "      self.set_presion()\n",
        "      self.set_temperatura()\n",
        "      aux = 8 # inicialización de variable para el while del sensor de puertas\n",
        "      while aux != 0 and aux !=1 : # para seguir preguntando al usuario si desea cerrar puertas hasta que ingrese 1 o 0\n",
        "        aux = int(input(\"Desea cerrar las puertas? \"))\n",
        "      #print(aux)\n",
        "      self.set_puertas(aux)\n",
        "      if (self._temperatura<110 and self._temperatura>-10) and (self._presion_neum>28 and self._presion_neum<38) and self._sensor_puertas:  \n",
        "        self._engine_ok = True\n",
        "        print(\"El Carro Arranco\")\n",
        "      else:\n",
        "        self._engine_ok = False\n",
        "        print(\"El Carro No Arranco\")\n",
        "      print(f\"temperatura: {self._temperatura}, presion: {self._presion_neum}, puertas: {self._sensor_puertas}\")\n"
      ],
      "metadata": {
        "id": "cB18pPpfzug2"
      },
      "execution_count": 101,
      "outputs": []
    },
    {
      "cell_type": "code",
      "source": [
        "mazda = carro(\"mazda\", \"rojo\", 2013, 1600, 54000000) # Instanciar el objeto"
      ],
      "metadata": {
        "id": "YfEhCshVIi1n"
      },
      "execution_count": 102,
      "outputs": []
    },
    {
      "cell_type": "code",
      "source": [
        "mazda._modelo"
      ],
      "metadata": {
        "colab": {
          "base_uri": "https://localhost:8080/"
        },
        "id": "K6TRp521NYp1",
        "outputId": "0925813f-7d04-40df-fe15-4b528a53f419"
      },
      "execution_count": 103,
      "outputs": [
        {
          "output_type": "execute_result",
          "data": {
            "text/plain": [
              "2013"
            ]
          },
          "metadata": {},
          "execution_count": 103
        }
      ]
    },
    {
      "cell_type": "code",
      "source": [
        "chevrolet_camaro = carro(\"chevrolet\", \"amarillo\", 2020, 5000, 140000000)"
      ],
      "metadata": {
        "id": "REpSDaMqN1Ta"
      },
      "execution_count": 104,
      "outputs": []
    },
    {
      "cell_type": "code",
      "source": [
        "chevrolet_camaro #me indica que hace parte de una clase\n",
        "chevrolet_camaro._precio #para llamar el dato instanciado"
      ],
      "metadata": {
        "colab": {
          "base_uri": "https://localhost:8080/"
        },
        "id": "E5-UE3HwOnSm",
        "outputId": "57b175a5-6422-4ceb-ae5f-41856b21cd57"
      },
      "execution_count": 105,
      "outputs": [
        {
          "output_type": "execute_result",
          "data": {
            "text/plain": [
              "140000000"
            ]
          },
          "metadata": {},
          "execution_count": 105
        }
      ]
    },
    {
      "cell_type": "code",
      "source": [
        "#para llamar varios datos al mismo tiempo\n",
        "print(chevrolet_camaro._precio)\n",
        "print(chevrolet_camaro._cilindraje)\n",
        "print(mazda._precio)\n",
        "print(mazda._cilindraje)"
      ],
      "metadata": {
        "colab": {
          "base_uri": "https://localhost:8080/"
        },
        "id": "NbargBowPKOw",
        "outputId": "c2ab6d93-d940-4cf7-bfce-29d0f172af0b"
      },
      "execution_count": 106,
      "outputs": [
        {
          "output_type": "stream",
          "name": "stdout",
          "text": [
            "140000000\n",
            "5000\n",
            "54000000\n",
            "1600\n"
          ]
        }
      ]
    },
    {
      "cell_type": "code",
      "source": [
        "chevrolet_camaro.check_engine()"
      ],
      "metadata": {
        "colab": {
          "base_uri": "https://localhost:8080/"
        },
        "id": "Fn3jsSZZRpOI",
        "outputId": "fba7e0c6-b6e3-4dc8-8964-3933d127e0e1"
      },
      "execution_count": 111,
      "outputs": [
        {
          "output_type": "stream",
          "name": "stdout",
          "text": [
            "Desea cerrar las puertas? 1\n",
            "El Carro Arranco\n",
            "temperatura: [89], presion: [37], puertas: True\n"
          ]
        }
      ]
    }
  ]
}