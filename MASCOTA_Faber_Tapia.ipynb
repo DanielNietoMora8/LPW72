{
  "nbformat": 4,
  "nbformat_minor": 0,
  "metadata": {
    "colab": {
      "provenance": []
    },
    "kernelspec": {
      "name": "python3",
      "display_name": "Python 3"
    },
    "language_info": {
      "name": "python"
    }
  },
  "cells": [
    {
      "cell_type": "code",
      "execution_count": null,
      "metadata": {
        "id": "0tv7QHfedZ-y"
      },
      "outputs": [],
      "source": [
        "import numpy as py\n",
        "import matplotlib.pyplot as plt\n",
        "import pandas as pd\n",
        "import random\n",
        "\n",
        "class pet: ## Clase PET\n",
        "  def __init__(self,raza:str,name:str):\n",
        "    self.raza = raza\n",
        "    self.name = name\n",
        "    self.hambre = False\n",
        "    self.dormido = False\n",
        "\n",
        "  def Alimentar(self):\n",
        "    self.hambre = random.choice([True,False])\n",
        "\n",
        "  def Dormir(self):\n",
        "    self.dormido = random.choice([True,False])\n",
        "\n",
        "  \n",
        "  def chek_pet(self):\n",
        "    self.Alimentar()\n",
        "    self.Dormir()\n",
        "    if self.hambre == True and self.dormido == False:\n",
        "      print(f\"Su mascota {self.name} de raza {self.raza} tiene hambre y esta despierta.\")\n",
        "      print(\"ALIMENTAR\")\n",
        "    elif self.hambre == False and self.dormido == False: \n",
        "      print(f\"Su mascota {self.name} de raza {self.raza} no tiene hambre y esta despierta.\")\n",
        "    elif self.hambre == True and self.dormido == True:\n",
        "      print(f\"Su mascota {self.name} de raza {self.raza} no tiene hambre y esta dormida.\")\n",
        "    else:\n",
        "      print(f\"Su mascota {self.name} de raza {self.raza} tiene hambre y esta despierta.\")\n",
        "      print(\"ALIMENTAR\")\n",
        "  "
      ]
    },
    {
      "cell_type": "code",
      "source": [
        "cat1 = pet(\"Persa\",\"Luka\")\n",
        "cat1.chek_pet()"
      ],
      "metadata": {
        "colab": {
          "base_uri": "https://localhost:8080/"
        },
        "id": "8njHbzpAg_4s",
        "outputId": "85be041f-4a85-4144-9572-d35df57c30ac"
      },
      "execution_count": null,
      "outputs": [
        {
          "output_type": "stream",
          "name": "stdout",
          "text": [
            "Su mascota Luka de raza Persa tiene hambre y esta despierta.\n",
            "ALIMENTAR\n"
          ]
        }
      ]
    }
  ]
}